{
 "cells": [
  {
   "cell_type": "code",
   "execution_count": null,
   "metadata": {
    "pycharm": {
     "name": "#%%\n"
    }
   },
   "outputs": [],
   "source": [
    "# Description of data\n",
    "tennisMain = \"../programs/tennis.py\"\n",
    "refgtf     = \"../data/dm6.gtf\""
   ]
  },
  {
   "cell_type": "markdown",
   "metadata": {},
   "source": [
    "First we read the gtf file, representing isoforms as binary vectors"
   ]
  },
  {
   "cell_type": "code",
   "execution_count": null,
   "metadata": {
    "pycharm": {
     "is_executing": true,
     "name": "#%%\n"
    }
   },
   "outputs": [],
   "source": [
    "# read file and get chains\n",
    "import sys\n",
    "import os\n",
    "\n",
    "# get the path to tennis/src dir\n",
    "tennisSrc = tennisMain\n",
    "while os.path.islink(tennisSrc):\n",
    "    newTarget = os.readlink(tennisSrc)\n",
    "    if not os.path.isabs(newTarget):\n",
    "        newTarget = os.path.join(os.path.dirname(os.path.abspath(tennisSrc)), newTarget)\n",
    "    tennisSrc = newTarget\n",
    "tennisSrcDir = os.path.dirname(tennisSrc)\n",
    "sys.path.insert(0, tennisSrcDir)\n",
    "\n",
    "\n",
    "from tennis import Transcriptom\n",
    "\n",
    "!mkdir removal_retrival \n",
    "save_basename = 'removal_retrival/Ref_removal'\n",
    "tsm = Transcriptom(refgtf,  f'{save_basename + \"tmp\"}.stats', f'{save_basename + \"tmp\"}.pred.gtf')\n",
    "\n",
    "multi_iso_gene = 0\n",
    "for i in tsm.exonMatrixCollection:\n",
    "    if len(i) >= 2:\n",
    "        multi_iso_gene += 1\n",
    "\n",
    "\n",
    "matrix = tsm.get_chain_matrix('pexon_chain', 'tsstes_level')"
   ]
  },
  {
   "cell_type": "markdown",
   "metadata": {},
   "source": [
    "Then we removed 1 isoform from each multi-isoform transcript group if (1) this removal does not remove the shortest transcript; (2) this removal does not reduce total number of exons. The purpose of those two conditions are that the removed isoforms should be theoretically able to be retrieved. "
   ]
  },
  {
   "cell_type": "code",
   "execution_count": null,
   "metadata": {
    "pycharm": {
     "name": "#%%\n"
    }
   },
   "outputs": [],
   "source": [
    "# remove One transcript from gene\n",
    "# if gene has multiple transcripts and\n",
    "# 1: this removal should not remove the shortest transcript\n",
    "# 2: this removal should not reduce total number of exons\n",
    "import random\n",
    "from collections import Counter\n",
    "from collections import defaultdict\n",
    "\n",
    "considered_gene_count = 0\n",
    "# the sum of removed + ramaining is less than total because some genes don't satisfy the conditions\n",
    "removed_transcripts = []\n",
    "remaining_transcripts = []\n",
    "assert len(matrix) == len(tsm.matrix_gids)\n",
    "for i in range(len(matrix)):\n",
    "    group_id = tsm.matrix_gids[i]\n",
    "    group_isoforms = matrix[i]\n",
    "\n",
    "    if len(group_isoforms) <= 2: continue\n",
    "\n",
    "    # count exons and get shortest transcript length\n",
    "    shortest_isoform_length = len(group_isoforms[0])\n",
    "    exon_counter = Counter()\n",
    "    for isoform in group_isoforms:\n",
    "        if len(isoform) <= 2: # must be multi-exon transcripts\n",
    "            continue\n",
    "        if len(isoform) < shortest_isoform_length:\n",
    "            shortest_isoform_length = len(isoform)\n",
    "        exon_counter.update(isoform)\n",
    "\n",
    "    # count exons and get shortest transcript length\n",
    "    random.shuffle(group_isoforms)\n",
    "    for i, isoform in enumerate(group_isoforms):\n",
    "        # condition 1\n",
    "        if len(isoform) == shortest_isoform_length:\n",
    "            continue\n",
    "\n",
    "        # condition 2\n",
    "        is_exon_num_reduced = False\n",
    "        for exon in isoform:\n",
    "            if exon_counter[exon] <= 1:\n",
    "                is_exon_num_reduced = True\n",
    "                break\n",
    "        if is_exon_num_reduced:\n",
    "            continue\n",
    "\n",
    "        prev_iso_num = len(group_isoforms)\n",
    "        removed_transcripts.append((group_id, isoform))\n",
    "        group_isoforms.remove(isoform)\n",
    "        remaining_transcripts.append((group_id, group_isoforms))\n",
    "        assert len(group_isoforms) + 1 == prev_iso_num\n",
    "        considered_gene_count += 1\n",
    "        break\n",
    "\n",
    "print(f'considered {considered_gene_count} transcript groups')\n",
    "for i, j in zip(removed_transcripts[:10], remaining_transcripts[:10]):\n",
    "    print(\"removed:\", i)\n",
    "    print(f\"remaining ({len(j)}):\", j)"
   ]
  },
  {
   "cell_type": "code",
   "execution_count": null,
   "metadata": {
    "pycharm": {
     "name": "#%%\n"
    }
   },
   "outputs": [],
   "source": [
    "# save the removed and remaining transcripts\n",
    "import os\n",
    "remaining_file = save_basename + \".remaining.gtf\"\n",
    "if os.path.exists(remaining_file):\n",
    "    print(remaining_file, \"exists. Removing it\")\n",
    "    os.remove(remaining_file)\n",
    "for gid, chains in remaining_transcripts:\n",
    "    info = dict()\n",
    "    tsm.save_novel_gene_in_gtf(chains, info, gid, \"pexon_chain\", addlN=9999, file=remaining_file)\n",
    "\n",
    "removed_transcripts_file = save_basename + \".artificial_removed.gtf\"\n",
    "if os.path.exists(removed_transcripts_file):\n",
    "    print(removed_transcripts_file, \"exists. Removing it\")\n",
    "    os.remove(removed_transcripts_file)\n",
    "for gid, chains in removed_transcripts:\n",
    "    gchains = [chains] # put transcripts in a gene\n",
    "    info = dict()\n",
    "    tsm.save_novel_gene_in_gtf(gchains, info, gid, \"pexon_chain\", addlN=1, file=removed_transcripts_file)"
   ]
  },
  {
   "cell_type": "markdown",
   "metadata": {},
   "source": [
    "Afterwards, we can test on those files as we did in the `long_read_support` module. By using `remaining_file` as input, and `removed_transcripts_file` as the ground truth."
   ]
  }
 ],
 "metadata": {
  "kernelspec": {
   "display_name": "tennis",
   "language": "python",
   "name": "python3"
  },
  "language_info": {
   "codemirror_mode": {
    "name": "ipython",
    "version": 3
   },
   "file_extension": ".py",
   "mimetype": "text/x-python",
   "name": "python",
   "nbconvert_exporter": "python",
   "pygments_lexer": "ipython3",
   "version": "3.12.6"
  }
 },
 "nbformat": 4,
 "nbformat_minor": 2
}
