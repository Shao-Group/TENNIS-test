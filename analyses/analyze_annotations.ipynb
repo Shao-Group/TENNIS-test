{
 "cells": [
  {
   "cell_type": "markdown",
   "metadata": {},
   "source": [
    "Apply TENNIS to different transcriptomes, and generate `.stats` files, which consist of results in section 3.1"
   ]
  },
  {
   "cell_type": "code",
   "execution_count": null,
   "metadata": {},
   "outputs": [],
   "source": [
    "# configurations\n",
    "tennisMain = \"../programs/tennis.py\"\n",
    "datadir = \"../data/\"\n",
    "!mkdir analyze_annotations"
   ]
  },
  {
   "cell_type": "code",
   "execution_count": null,
   "metadata": {},
   "outputs": [],
   "source": [
    "import os\n",
    "from pathlib import Path\n",
    "\n",
    "# list all files in the data directory\n",
    "files = os.listdir(datadir)\n",
    "for file in files:\n",
    "    if not file.endswith(\".gtf\"):\n",
    "        continue\n",
    "    gtf_file = os.path.join(datadir, file)\n",
    "    print(gtf_file)\n",
    "\n",
    "    # execute & print stats\n",
    "    bname = Path(gtf_file).stem\n",
    "    !python {tennisMain} -p 0.0 -o analyze_annotations/{bname} {gtf_file}\n",
    "    !cat analyze_annotations/{bname}.stats"
   ]
  }
 ],
 "metadata": {
  "kernelspec": {
   "display_name": "tennis",
   "language": "python",
   "name": "python3"
  },
  "language_info": {
   "codemirror_mode": {
    "name": "ipython",
    "version": 3
   },
   "file_extension": ".py",
   "mimetype": "text/x-python",
   "name": "python",
   "nbconvert_exporter": "python",
   "pygments_lexer": "ipython3",
   "version": "3.12.6"
  }
 },
 "nbformat": 4,
 "nbformat_minor": 2
}
