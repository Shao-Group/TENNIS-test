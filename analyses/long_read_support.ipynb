{
 "cells": [
  {
   "cell_type": "markdown",
   "metadata": {},
   "source": [
    "Cross-validate isoform predictions of TENNIS using a transcriptome assembly of deep long-read RNA-seq from GSE203583.\n",
    "\n",
    "Download the `gtf` file from GSE203583 and put it in the `../data` directory."
   ]
  },
  {
   "cell_type": "code",
   "execution_count": null,
   "metadata": {
    "pycharm": {
     "name": "#%%\n"
    }
   },
   "outputs": [],
   "source": [
    "# configurations\n",
    "tennisMain      = \"../programs/tennis.py\"\n",
    "longreadsgtf    = \"../data/GSE203583/GSE203583_CIA.assembly.allTissues59K.gtf\"\n",
    "dm6_predictions = \"./analyze_annotations/dm6.pred.gtf\"\n",
    "\n",
    "!mkdir long_read_support"
   ]
  },
  {
   "cell_type": "markdown",
   "metadata": {},
   "source": [
    "Since the chromosomes are named in different annotations of `dm6.gtf` and `longreadsgtf`. We should convert them using cvbio first."
   ]
  },
  {
   "cell_type": "code",
   "execution_count": null,
   "metadata": {},
   "outputs": [],
   "source": [
    "longreads_chr_gtf = \"../data/GSE203583/GSE203583_CIA.assembly.allTissues59K.chrname.gtf\"\n",
    "! cvbio UpdateContigNames \\\n",
    "    -i {longreadsgtf} \\\n",
    "    -o {longreads_chr_gtf} \\\n",
    "    -m ../data/chr_name.dm6.txt  \\\n",
    "    --comment-chars '#' \\\n",
    "    --columns 0 \\\n",
    "    --skip-missing true"
   ]
  },
  {
   "cell_type": "markdown",
   "metadata": {},
   "source": [
    "Then we can evaluate TENNIS predictions by cross-validating it with a transcriptome assembly. The principle is that once a predicted isoform is supported by real sequencing data, then it is more likely to be a true positive (i.e. truly missing from the annotation)."
   ]
  },
  {
   "cell_type": "code",
   "execution_count": null,
   "metadata": {
    "pycharm": {
     "name": "#%%\n"
    }
   },
   "outputs": [],
   "source": [
    "# Check support from real data\n",
    "!gffcompare -r {longreads_chr_gtf} -o long_read_support/comp_GSE203583 {dm6_predictions}\n",
    "!cat comp_GSE203583.stats"
   ]
  },
  {
   "cell_type": "markdown",
   "metadata": {},
   "source": [
    "Similarly, we are able to evaluate two randomized baseline approaches `Rand1` and `RandX`."
   ]
  },
  {
   "cell_type": "code",
   "execution_count": null,
   "metadata": {},
   "outputs": [],
   "source": [
    "dm6gtf = \"../data/dm6.gtf\"\n",
    "!python {tennisMain} test -f Random1 -p 0.0 -o long_read_support/Rand1.dm6 --xi_gtf_file {dm6_predictions} {dm6gtf} \n",
    "!python {tennisMain} test -f RandomX -p 0.0 -o long_read_support/RandX.dm6 --xi_gtf_file {dm6_predictions} {dm6gtf}"
   ]
  },
  {
   "cell_type": "code",
   "execution_count": null,
   "metadata": {},
   "outputs": [],
   "source": [
    "# Check support from real data\n",
    "!gffcompare -r {longreads_chr_gtf} -o long_read_support/comp_GSE203583_Rand1 long_read_support/Rand1.dm6.pred.gtf\n",
    "!gffcompare -r {longreads_chr_gtf} -o long_read_support/comp_GSE203583_RandX long_read_support/RandX.dm6.pred.gtf\n",
    "\n",
    "!cat long_read_support/comp_GSE203583_Rand1.stats\n",
    "!cat long_read_support/comp_GSE203583_RandX.stats"
   ]
  },
  {
   "cell_type": "markdown",
   "metadata": {},
   "source": [
    "Intron-chian level precision and recall can be found in files comp_GSE203583_Rand1.stats and comp_GSE203583_RandX.stats. Denote them as `Rand1prec`, `Rand1rec`, `RandXprec`, `RandXrec`. They will be used as input of the plot script below."
   ]
  },
  {
   "cell_type": "code",
   "execution_count": null,
   "metadata": {},
   "outputs": [],
   "source": [
    "# replace the following values as from the `stats` files\n",
    "Rand1prec = 23.2\n",
    "Rand1rec  = 149\n",
    "RandXprec = 18.3\n",
    "RandXrec  = 171"
   ]
  },
  {
   "cell_type": "code",
   "execution_count": null,
   "metadata": {},
   "outputs": [],
   "source": [
    "import os\n",
    "from pathlib import Path\n",
    "from typing import Optional\n",
    "\n",
    "def get_symlink_target(symlink_path: str) -> Optional[str]:\n",
    "\n",
    "    # Convert to Path object and resolve to absolute path\n",
    "    path = Path(symlink_path).resolve()\n",
    "    \n",
    "    # Check if the path exists\n",
    "    if not path.exists():\n",
    "        return None\n",
    "        \n",
    "    # Check if it's actually a symlink\n",
    "    if not os.path.islink(symlink_path):\n",
    "        return None\n",
    "        \n",
    "    # Get the immediate target\n",
    "    target = os.readlink(symlink_path)\n",
    "    \n",
    "    \n",
    "    # If target is itself a symlink, recursively resolve it\n",
    "    while os.path.islink(target):\n",
    "        target = os.readlink(target)\n",
    "        # Check for circular references\n",
    "        if target == symlink_path:\n",
    "            return None\n",
    "            \n",
    "    return os.path.abspath(target)\n",
    "        "
   ]
  },
  {
   "cell_type": "code",
   "execution_count": null,
   "metadata": {},
   "outputs": [],
   "source": [
    "import sys\n",
    "import os\n",
    "from os.path  import basename\n",
    "\n",
    "# get the path to tennis/src dir\n",
    "tennisSrc = tennisMain\n",
    "while os.path.islink(tennisSrc):\n",
    "    newTarget = os.readlink(tennisSrc)\n",
    "    if not os.path.isabs(newTarget):\n",
    "        newTarget = os.path.join(os.path.dirname(os.path.abspath(tennisSrc)), newTarget)\n",
    "    tennisSrc = newTarget\n",
    "tennisSrcDir = os.path.dirname(tennisSrc)\n",
    "sys.path.insert(0, tennisSrcDir)\n",
    "\n",
    "tmap = \"./analyze_annotations/comp_GSE203583.\" + basename(dm6_predictions) + \".tmap\"\n",
    "pr_txt = \"long_read_support/dm6.precision_recall_by_pctIn.txt\"\n",
    "!python ../scripts/precision_recall_by_pctIn.py {dm6_predictions} {tmap} {pr_txt} {tennisSrcDir}\n"
   ]
  },
  {
   "cell_type": "markdown",
   "metadata": {},
   "source": [
    "Then we can make the plot. It will be output in file `long_read_support/dm6.plot.pdf`"
   ]
  },
  {
   "cell_type": "code",
   "execution_count": null,
   "metadata": {},
   "outputs": [],
   "source": [
    "!python ../scripts/precision_recall_fig.py {pr_txt} {Rand1rec} {Rand1prec} {RandXrec} {RandXprec} long_read_support/dm6.plot.pdf"
   ]
  }
 ],
 "metadata": {
  "kernelspec": {
   "display_name": "tennis",
   "language": "python",
   "name": "python3"
  },
  "language_info": {
   "codemirror_mode": {
    "name": "ipython",
    "version": 3
   },
   "file_extension": ".py",
   "mimetype": "text/x-python",
   "name": "python",
   "nbconvert_exporter": "python",
   "pygments_lexer": "ipython3",
   "version": "3.12.6"
  }
 },
 "nbformat": 4,
 "nbformat_minor": 2
}
